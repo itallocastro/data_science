{
  "nbformat": 4,
  "nbformat_minor": 0,
  "metadata": {
    "colab": {
      "name": "lista1q4q5.ipynb",
      "provenance": []
    },
    "kernelspec": {
      "name": "python3",
      "display_name": "Python 3"
    },
    "language_info": {
      "name": "python"
    }
  },
  "cells": [
    {
      "cell_type": "code",
      "metadata": {
        "id": "LV9WVgm9t8OX",
        "outputId": "741c9dbf-4b46-448d-fea9-3cdc0b4badfb",
        "colab": {
          "base_uri": "https://localhost:8080/"
        }
      },
      "source": [
        "import pandas as pd\n",
        "import matplotlib.pyplot as plt\n",
        "import numpy as np\n",
        "from statsmodels.graphics.gofplots import qqplot\n",
        "from scipy.stats import shapiro\n",
        "\n",
        "np.random.seed(5)\n",
        "v1 = np.random.normal(100,75, 1000)\n",
        "v2 = np.random.uniform(0,100, 1000)"
      ],
      "execution_count": 1,
      "outputs": [
        {
          "output_type": "stream",
          "text": [
            "/usr/local/lib/python3.7/dist-packages/statsmodels/tools/_testing.py:19: FutureWarning: pandas.util.testing is deprecated. Use the functions in the public API at pandas.testing instead.\n",
            "  import pandas.util.testing as tm\n"
          ],
          "name": "stderr"
        }
      ]
    },
    {
      "cell_type": "markdown",
      "metadata": {
        "id": "Aj1qvf8cyoA8"
      },
      "source": [
        "# V1"
      ]
    },
    {
      "cell_type": "code",
      "metadata": {
        "colab": {
          "base_uri": "https://localhost:8080/"
        },
        "id": "tUZTx7tHw4vz",
        "outputId": "942d135f-951f-4344-8b86-a4709743cb52"
      },
      "source": [
        "print(v1.mean(), np.median(v1))"
      ],
      "execution_count": 2,
      "outputs": [
        {
          "output_type": "stream",
          "text": [
            "102.49577709196414 101.77942030673236\n"
          ],
          "name": "stdout"
        }
      ]
    },
    {
      "cell_type": "markdown",
      "metadata": {
        "id": "p-H7pKcXyqYU"
      },
      "source": [
        "# V2"
      ]
    },
    {
      "cell_type": "code",
      "metadata": {
        "colab": {
          "base_uri": "https://localhost:8080/"
        },
        "id": "DNcQ0TcnxncH",
        "outputId": "ce5ab56e-4829-4645-f8a3-67c995bdca69"
      },
      "source": [
        "print(v2.mean(), np.median(v2))"
      ],
      "execution_count": 3,
      "outputs": [
        {
          "output_type": "stream",
          "text": [
            "50.785396079920595 50.99470186643693\n"
          ],
          "name": "stdout"
        }
      ]
    },
    {
      "cell_type": "markdown",
      "metadata": {
        "id": "VykNg6pbzW3h"
      },
      "source": [
        "# Histogramas"
      ]
    },
    {
      "cell_type": "code",
      "metadata": {
        "colab": {
          "base_uri": "https://localhost:8080/",
          "height": 281
        },
        "id": "B6waCI1IzVTq",
        "outputId": "93f1069e-3757-4768-87c2-491fe68c63e7"
      },
      "source": [
        "_ = plt.hist(v1, bins=30)  # arguments are passed to np.histogram\n",
        "plt.title(\"Histograma v1\")\n",
        "plt.show()"
      ],
      "execution_count": 4,
      "outputs": [
        {
          "output_type": "display_data",
          "data": {
            "image/png": "[encoded data removed]",
            "text/plain": [
              "<Figure size 432x288 with 1 Axes>"
            ]
          },
          "metadata": {
            "tags": [],
            "needs_background": "light"
          }
        }
      ]
    },
    {
      "cell_type": "code",
      "metadata": {
        "colab": {
          "base_uri": "https://localhost:8080/",
          "height": 281
        },
        "id": "J_jpbEEo14hN",
        "outputId": "18b27db3-f80c-4abd-a47d-84d80a973d09"
      },
      "source": [
        "_ = plt.hist(v2, bins=30)  # arguments are passed to np.histogram\n",
        "plt.title(\"Histograma v2\")\n",
        "plt.show()"
      ],
      "execution_count": 5,
      "outputs": [
        {
          "output_type": "display_data",
          "data": {
            "image/png": "[encoded data removed]",
            "text/plain": [
              "<Figure size 432x288 with 1 Axes>"
            ]
          },
          "metadata": {
            "tags": [],
            "needs_background": "light"
          }
        }
      ]
    },
    {
      "cell_type": "code",
      "metadata": {
        "colab": {
          "base_uri": "https://localhost:8080/",
          "height": 296
        },
        "id": "pFCHvcwd4qny",
        "outputId": "635d8366-224b-4a9e-e2d2-41cd997d8c10"
      },
      "source": [
        "qqplot_data = qqplot(v1 , line ='s').gca().lines\n",
        "stat , pvalue = shapiro(v1)\n",
        "print(stat, pvalue)"
      ],
      "execution_count": 6,
      "outputs": [
        {
          "output_type": "stream",
          "text": [
            "0.9987095594406128 0.6949903964996338\n"
          ],
          "name": "stdout"
        },
        {
          "output_type": "display_data",
          "data": {
            "image/png": "[encoded data removed]",
            "text/plain": [
              "<Figure size 432x288 with 1 Axes>"
            ]
          },
          "metadata": {
            "tags": [],
            "needs_background": "light"
          }
        }
      ]
    },
    {
      "cell_type": "markdown",
      "metadata": {
        "id": "4E6KNZuwbEMO"
      },
      "source": [
        "# Testes de Hipótese"
      ]
    },
    {
      "cell_type": "code",
      "metadata": {
        "colab": {
          "base_uri": "https://localhost:8080/",
          "height": 296
        },
        "id": "VikK7qacOXGa",
        "outputId": "c80643aa-2d7a-44a5-8345-1c23bcf1a9e5"
      },
      "source": [
        "qqplot_data2 = qqplot(v2 , line ='s').gca().lines\n",
        "stat , pvalue = shapiro(v2)\n",
        "print(stat, pvalue)"
      ],
      "execution_count": 7,
      "outputs": [
        {
          "output_type": "stream",
          "text": [
            "0.9539932608604431 3.708385681951192e-17\n"
          ],
          "name": "stdout"
        },
        {
          "output_type": "display_data",
          "data": {
            "image/png": "[encoded data removed]",
            "text/plain": [
              "<Figure size 432x288 with 1 Axes>"
            ]
          },
          "metadata": {
            "tags": [],
            "needs_background": "light"
          }
        }
      ]
    },
    {
      "cell_type": "code",
      "metadata": {
        "id": "7TB9E0ZbOAw6"
      },
      "source": [
        ""
      ],
      "execution_count": 7,
      "outputs": []
    }
  ]
}